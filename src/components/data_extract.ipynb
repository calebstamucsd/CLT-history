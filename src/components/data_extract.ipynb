{
 "cells": [
  {
   "cell_type": "code",
   "execution_count": 49,
   "metadata": {},
   "outputs": [],
   "source": [
    "import numpy as np\n",
    "import pandas as pd\n",
    "import json"
   ]
  },
  {
   "cell_type": "code",
   "execution_count": 50,
   "metadata": {},
   "outputs": [],
   "source": [
    "my_movies = ['Lion King, The (1994)', 'Titanic (1997)', \"Harry Potter and the Sorcerer's Stone (a.k.a. Harry Potter and the Philosopher's Stone) (2001)\", 'Spirited Away (Sen to Chihiro no kamikakushi) (2001)', 'Avengers, The (2012)', 'Parasite (2019)']"
   ]
  },
  {
   "cell_type": "code",
   "execution_count": 51,
   "metadata": {},
   "outputs": [],
   "source": [
    "movies = pd.read_csv('assets/movies.csv', usecols=['movieId', 'title'])\n",
    "ratings = pd.read_csv('assets/ratings.csv', usecols=['movieId', 'rating'])"
   ]
  },
  {
   "cell_type": "code",
   "execution_count": 52,
   "metadata": {},
   "outputs": [],
   "source": [
    "my_movie_ids = movies[movies['title'].isin(my_movies)]\n",
    "my_movie_ids = my_movie_ids.set_index('movieId')['title'].to_dict()"
   ]
  },
  {
   "cell_type": "code",
   "execution_count": 53,
   "metadata": {},
   "outputs": [],
   "source": [
    "rating_dict = {}\n",
    "for movie_id, movie_title in my_movie_ids.items():\n",
    "    rating_dict[movie_title] = ratings[ratings['movieId'] == movie_id]['rating'].value_counts().to_dict()"
   ]
  },
  {
   "cell_type": "code",
   "execution_count": 54,
   "metadata": {},
   "outputs": [
    {
     "data": {
      "text/plain": [
       "'{\"Lion King, The (1994)\": {\"4.0\": 16358, \"5.0\": 11913, \"3.0\": 10719, \"3.5\": 5027, \"4.5\": 4870, \"2.0\": 1899, \"2.5\": 1296, \"1.0\": 761, \"0.5\": 336, \"1.5\": 330}, \"Titanic (1997)\": {\"4.0\": 12183, \"3.0\": 9574, \"5.0\": 7855, \"3.5\": 6261, \"2.0\": 4372, \"4.5\": 3325, \"2.5\": 2921, \"1.0\": 2243, \"1.5\": 1012, \"0.5\": 960}, \"Harry Potter and the Sorcerer\\'s Stone (a.k.a. Harry Potter and the Philosopher\\'s Stone) (2001)\": {\"4.0\": 9618, \"5.0\": 6353, \"3.5\": 5742, \"3.0\": 5562, \"4.5\": 3864, \"2.5\": 1741, \"2.0\": 1559, \"1.0\": 651, \"0.5\": 590, \"1.5\": 447}, \"Spirited Away (Sen to Chihiro no kamikakushi) (2001)\": {\"5.0\": 12779, \"4.0\": 8042, \"4.5\": 7562, \"3.5\": 2943, \"3.0\": 1854, \"2.5\": 646, \"2.0\": 527, \"0.5\": 475, \"1.0\": 371, \"1.5\": 176}, \"Avengers, The (2012)\": {\"4.0\": 7060, \"5.0\": 5072, \"3.5\": 4242, \"4.5\": 3948, \"3.0\": 3283, \"2.5\": 1317, \"2.0\": 1053, \"0.5\": 630, \"1.0\": 519, \"1.5\": 371}, \"Parasite (2019)\": {\"5.0\": 4639, \"4.5\": 3073, \"4.0\": 2674, \"3.5\": 1012, \"3.0\": 511, \"2.5\": 181, \"2.0\": 141, \"0.5\": 68, \"1.0\": 52, \"1.5\": 48}}'"
      ]
     },
     "execution_count": 54,
     "metadata": {},
     "output_type": "execute_result"
    }
   ],
   "source": []
  },
  {
   "cell_type": "code",
   "execution_count": 55,
   "metadata": {},
   "outputs": [],
   "source": [
    "with open('assets/movie_ratings.json', 'w') as f:\n",
    "    f.write(json.dumps(rating_dict))"
   ]
  },
  {
   "cell_type": "code",
   "execution_count": null,
   "metadata": {},
   "outputs": [],
   "source": []
  }
 ],
 "metadata": {
  "kernelspec": {
   "display_name": "cuda",
   "language": "python",
   "name": "python3"
  },
  "language_info": {
   "codemirror_mode": {
    "name": "ipython",
    "version": 3
   },
   "file_extension": ".py",
   "mimetype": "text/x-python",
   "name": "python",
   "nbconvert_exporter": "python",
   "pygments_lexer": "ipython3",
   "version": "3.11.7"
  }
 },
 "nbformat": 4,
 "nbformat_minor": 2
}
